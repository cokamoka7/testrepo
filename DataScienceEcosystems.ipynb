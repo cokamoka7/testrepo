{
 "cells": [
  {
   "cell_type": "code",
   "execution_count": 1,
   "id": "286fab6e-0245-4722-af7c-462552f0d56b",
   "metadata": {},
   "outputs": [],
   "source": [
    "# Data Science Tools and Ecosystem"
   ]
  },
  {
   "cell_type": "markdown",
   "id": "d6d8b4ac-257b-4849-81ff-a38550b1185a",
   "metadata": {},
   "source": [
    "In this notebook, Data Science Tools and Ecosystem are summarized."
   ]
  },
  {
   "cell_type": "markdown",
   "id": "0a01bed0-3489-428d-ae4f-ceb4425b00e4",
   "metadata": {},
   "source": [
    "**Objectives:**\n",
    "- The most common DS langauages\n",
    "- The most common DS tools\n",
    "- The basic arithmetic operations"
   ]
  },
  {
   "cell_type": "markdown",
   "id": "67dc2348-7061-4194-9efa-f63fcdb8378f",
   "metadata": {},
   "source": [
    "Some of the popular languages that Data Scientists use are:\n",
    "\n",
    "1. Python\n",
    "2. R\n",
    "3. Java"
   ]
  },
  {
   "cell_type": "markdown",
   "id": "8fc5e053-90a4-40b9-a33c-cf49718d1534",
   "metadata": {},
   "source": [
    "Some of the commonly used libraries used by Data Scientists include:\n",
    "\n",
    "1. numpy\n",
    "2. matplotlib\n",
    "3. ggplot"
   ]
  },
  {
   "cell_type": "markdown",
   "id": "d74a0d82-d37a-43c8-bbe0-c1931fac3273",
   "metadata": {},
   "source": [
    "|  Data Science tools |\n",
    "|  ------------------ |\n",
    "|  Jupyter Notebook   |\n",
    "|  R Studio           |\n",
    "|  Watson             |"
   ]
  },
  {
   "cell_type": "markdown",
   "id": "3bb3749a-e71f-4577-ae47-0f2687c8fd1e",
   "metadata": {},
   "source": [
    "### Below are a few examples of evaluating arithmetic expressions in Python"
   ]
  },
  {
   "cell_type": "code",
   "execution_count": 2,
   "id": "4947403f-dd41-4d48-9a43-e4a8c7458f34",
   "metadata": {},
   "outputs": [
    {
     "data": {
      "text/plain": [
       "17"
      ]
     },
     "execution_count": 2,
     "metadata": {},
     "output_type": "execute_result"
    }
   ],
   "source": [
    "#This a simple arithmetic expression to mutiply then add integers\n",
    "(3*4)+5"
   ]
  },
  {
   "cell_type": "code",
   "execution_count": 3,
   "id": "307e3c36-3000-4e83-8d51-734aa1126292",
   "metadata": {},
   "outputs": [
    {
     "data": {
      "text/plain": [
       "66.66666666666667"
      ]
     },
     "execution_count": 3,
     "metadata": {},
     "output_type": "execute_result"
    }
   ],
   "source": [
    "#This will convert 200 minutes to hours by diving by 60\n",
    "200/3"
   ]
  },
  {
   "cell_type": "markdown",
   "id": "c492fe5d-a99e-4ae1-8f8e-012f44cf43d9",
   "metadata": {},
   "source": [
    "## Author\n",
    "Sasa Dragisa Draskovic"
   ]
  },
  {
   "cell_type": "code",
   "execution_count": null,
   "id": "2be30453-41f0-4d0b-949a-116dc7810f6a",
   "metadata": {},
   "outputs": [],
   "source": []
  }
 ],
 "metadata": {
  "kernelspec": {
   "display_name": "Python [conda env:base] *",
   "language": "python",
   "name": "conda-base-py"
  },
  "language_info": {
   "codemirror_mode": {
    "name": "ipython",
    "version": 3
   },
   "file_extension": ".py",
   "mimetype": "text/x-python",
   "name": "python",
   "nbconvert_exporter": "python",
   "pygments_lexer": "ipython3",
   "version": "3.13.5"
  }
 },
 "nbformat": 4,
 "nbformat_minor": 5
}
